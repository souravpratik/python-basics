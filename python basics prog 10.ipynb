{
 "cells": [
  {
   "cell_type": "markdown",
   "id": "abc0c353",
   "metadata": {},
   "source": [
    "# python basics prog 10:"
   ]
  },
  {
   "cell_type": "markdown",
   "id": "d741e800",
   "metadata": {},
   "source": [
    "1.Write a Python Program to find sum of elements in a list ?\n"
   ]
  },
  {
   "cell_type": "code",
   "execution_count": 1,
   "id": "c4bd6040",
   "metadata": {},
   "outputs": [
    {
     "name": "stdout",
     "output_type": "stream",
     "text": [
      "Enter the No of Entries in a List: 4\n",
      "Enter a element: 4\n",
      "Enter a element: 3\n",
      "Enter a element: 2\n",
      "Enter a element: 1\n",
      "Sum of Elements: 10\n"
     ]
    }
   ],
   "source": [
    "def sumofList():\n",
    "    in_ele = int(input('Enter the No of Entries in a List: '))\n",
    "    in_list = []\n",
    "    for itr in range(in_ele):\n",
    "        in_list.append(int(input('Enter a element: ')))\n",
    "    print(f'Sum of Elements: {sum(in_list)}')\n",
    "\n",
    "sumofList()"
   ]
  },
  {
   "cell_type": "markdown",
   "id": "6e84c7d0",
   "metadata": {},
   "source": [
    "2.Write a Python Program to multiply all numbers in the list ?\n"
   ]
  },
  {
   "cell_type": "code",
   "execution_count": 2,
   "id": "b5d3cf71",
   "metadata": {},
   "outputs": [
    {
     "name": "stdout",
     "output_type": "stream",
     "text": [
      "Enter the No of Entries in a List: 4\n",
      "Enter a element: 4\n",
      "Enter a element: 3\n",
      "Enter a element: 2\n",
      "Enter a element: 1\n",
      "24\n"
     ]
    }
   ],
   "source": [
    "def mulofList():\n",
    "    in_ele = int(input('Enter the No of Entries in a List: '))\n",
    "    in_list = []\n",
    "    mul = 1\n",
    "    for itr in range(in_ele):\n",
    "        in_list.append(int(input('Enter a element: ')))\n",
    "    for ele in in_list:\n",
    "        mul = mul * ele\n",
    "    print(mul)\n",
    "\n",
    "mulofList()\n"
   ]
  },
  {
   "cell_type": "markdown",
   "id": "611d10c5",
   "metadata": {},
   "source": [
    "3.Write a Python Program to find smallest number in the list ?\n"
   ]
  },
  {
   "cell_type": "code",
   "execution_count": 3,
   "id": "6b59c7de",
   "metadata": {},
   "outputs": [
    {
     "name": "stdout",
     "output_type": "stream",
     "text": [
      "Enter the No of elements in a list: 4\n",
      "Enter a Element: 4\n",
      "Enter a Element: 3\n",
      "Enter a Element: 2\n",
      "Enter a Element: 1\n",
      "The Smallest Element in [4, 3, 2, 1] is 1\n"
     ]
    }
   ],
   "source": [
    "def smallEleInList():\n",
    "    in_ele = int(input('Enter the No of elements in a list: '))\n",
    "    in_list = []\n",
    "    for ele in range(in_ele):\n",
    "        in_list.append(int(input('Enter a Element: ')))\n",
    "    print(f'The Smallest Element in {in_list} is {sorted(in_list)[0]}')\n",
    "smallEleInList()"
   ]
  },
  {
   "cell_type": "markdown",
   "id": "cbac2ee8",
   "metadata": {},
   "source": [
    "4.Write a Python Program to find largest number in the list ?\n"
   ]
  },
  {
   "cell_type": "code",
   "execution_count": 4,
   "id": "4bf46d84",
   "metadata": {},
   "outputs": [
    {
     "name": "stdout",
     "output_type": "stream",
     "text": [
      "Enter the No of elements in a list: 4\n",
      "Enter a Element: 4\n",
      "Enter a Element: 3\n",
      "Enter a Element: 2\n",
      "Enter a Element: 1\n",
      "The Largest Element in [4, 3, 2, 1] is 4\n"
     ]
    }
   ],
   "source": [
    "def largestEleInList():\n",
    "    in_ele = int(input('Enter the No of elements in a list: '))\n",
    "    in_list = []\n",
    "    for ele in range(in_ele):\n",
    "        in_list.append(int(input('Enter a Element: ')))\n",
    "    print(f'The Largest Element in {in_list} is {sorted(in_list, reverse=True)[0]}')\n",
    "\n",
    "largestEleInList()"
   ]
  },
  {
   "cell_type": "markdown",
   "id": "2fbc1517",
   "metadata": {},
   "source": [
    "5.Write a Python Program to find second largest number in the list ?\n"
   ]
  },
  {
   "cell_type": "code",
   "execution_count": 5,
   "id": "63e023d3",
   "metadata": {},
   "outputs": [
    {
     "name": "stdout",
     "output_type": "stream",
     "text": [
      "Enter the No of elements in a list: 4\n",
      "Enter a Element: 4\n",
      "Enter a Element: 3\n",
      "Enter a Element: 2\n",
      "Enter a Element: 1\n",
      "The Second Largest Element in [4, 3, 2, 1] is 3\n"
     ]
    }
   ],
   "source": [
    "def secondLargestEleInList():\n",
    "    in_ele = int(input('Enter the No of elements in a list: '))\n",
    "    in_list = []\n",
    "    for ele in range(in_ele):\n",
    "        in_list.append(int(input('Enter a Element: ')))\n",
    "    print(f'The Second Largest Element in {in_list} is {sorted(in_list, reverse=True)[1]}')\n",
    "\n",
    "secondLargestEleInList()"
   ]
  },
  {
   "cell_type": "markdown",
   "id": "7576598e",
   "metadata": {},
   "source": [
    "6.Write a Python Program to find N largest elements in the list ?\n"
   ]
  },
  {
   "cell_type": "code",
   "execution_count": 7,
   "id": "98446125",
   "metadata": {},
   "outputs": [
    {
     "name": "stdout",
     "output_type": "stream",
     "text": [
      "Enter the No of elements in a list: 8\n",
      "Enter a Element: 5\n",
      "Enter a Element: 8\n",
      "Enter a Element: 4\n",
      "Enter a Element: 3\n",
      "Enter a Element: 9\n",
      "Enter a Element: 0\n",
      "Enter a Element: 2\n",
      "Enter a Element: 1\n",
      "The 4 Largest Element in [5, 8, 4, 3, 9, 0, 2, 1] is [9, 8, 5, 4]\n"
     ]
    }
   ],
   "source": [
    "def nLargestEleInList(k):\n",
    "    in_ele = int(input('Enter the No of elements in a list: '))\n",
    "    in_list = []\n",
    "    for ele in range(in_ele):\n",
    "        in_list.append(int(input('Enter a Element: ')))\n",
    "    print(f'The {k} Largest Element in {in_list} is {sorted(in_list, reverse=True)[0:k]}')\n",
    "\n",
    "nLargestEleInList(4)"
   ]
  },
  {
   "cell_type": "markdown",
   "id": "5429c34b",
   "metadata": {},
   "source": [
    "7.Write a Python Program to find even numbers in the list ?\n"
   ]
  },
  {
   "cell_type": "code",
   "execution_count": 9,
   "id": "2d65b5f4",
   "metadata": {},
   "outputs": [
    {
     "name": "stdout",
     "output_type": "stream",
     "text": [
      "Enter the No of elements in a list: 5\n",
      "Enter a Element: 2\n",
      "Enter a Element: 5\n",
      "Enter a Element: 4\n",
      "Enter a Element: 3\n",
      "Enter a Element: 1\n",
      "The Even Elements in [2, 5, 4, 3, 1] are [2, 4]\n"
     ]
    }
   ],
   "source": [
    "def evenNoInList():\n",
    "    in_ele = int(input('Enter the No of elements in a list: '))\n",
    "    in_list = []\n",
    "    even_list = []\n",
    "    for ele in range(in_ele):\n",
    "        in_list.append(int(input('Enter a Element: ')))\n",
    "    for ele in in_list:\n",
    "        if ele%2 == 0:\n",
    "            even_list.append(ele)\n",
    "    print(f'The Even Elements in {in_list} are {even_list}')\n",
    "\n",
    "evenNoInList()"
   ]
  },
  {
   "cell_type": "markdown",
   "id": "ae430ed7",
   "metadata": {},
   "source": [
    "8.Write a Python Program to find odd numbers in the list ?\n"
   ]
  },
  {
   "cell_type": "code",
   "execution_count": 10,
   "id": "0bbf24b3",
   "metadata": {},
   "outputs": [
    {
     "name": "stdout",
     "output_type": "stream",
     "text": [
      "Enter the No of elements in a list: 5\n",
      "Enter a Element: 7\n",
      "Enter a Element: 8\n",
      "Enter a Element: 6\n",
      "Enter a Element: 4\n",
      "Enter a Element: 3\n",
      "The Even Elements in [7, 8, 6, 4, 3] are [7, 3]\n"
     ]
    }
   ],
   "source": [
    "def oddNoInList():\n",
    "    in_ele = int(input('Enter the No of elements in a list: '))\n",
    "    in_list = []\n",
    "    odd_list = []\n",
    "    for ele in range(in_ele):\n",
    "        in_list.append(int(input('Enter a Element: ')))\n",
    "    for ele in in_list:\n",
    "        if ele%2 != 0:\n",
    "            odd_list.append(ele)\n",
    "    print(f'The Even Elements in {in_list} are {odd_list}')\n",
    "\n",
    "oddNoInList()"
   ]
  },
  {
   "cell_type": "markdown",
   "id": "669f8596",
   "metadata": {},
   "source": [
    "9.Write a Python Program to remove empty list from list ?\n"
   ]
  },
  {
   "cell_type": "code",
   "execution_count": 12,
   "id": "94b01ddc",
   "metadata": {},
   "outputs": [
    {
     "name": "stdout",
     "output_type": "stream",
     "text": [
      "Enter all elements of the list: [5,4,6,[],9,8]\n",
      "There is an Empty list in [5, 4, 6, [], 9, 8] at Position 3\n",
      "The List after removing [] is [5, 4, 6, 9, 8]\n"
     ]
    }
   ],
   "source": [
    "def checkEmptyList():\n",
    "    in_list = eval(input('Enter all elements of the list: '))\n",
    "    if [] in in_list:\n",
    "        print(f'There is an Empty list in {in_list} at Position {in_list.index([])}')\n",
    "        in_list.remove([])\n",
    "        print(f'The List after removing [] is {in_list}')\n",
    "    else:\n",
    "        print(f'There is no [] List in the list {in_list}')\n",
    "        \n",
    "checkEmptyList()"
   ]
  },
  {
   "cell_type": "markdown",
   "id": "4acd480d",
   "metadata": {},
   "source": [
    "10.Write a Python Program to Cloning or Copying a list ?\n"
   ]
  },
  {
   "cell_type": "code",
   "execution_count": 13,
   "id": "cd7e7e41",
   "metadata": {},
   "outputs": [
    {
     "name": "stdout",
     "output_type": "stream",
     "text": [
      "Enter a list[5,4,3,2,1]\n",
      "[5, 4, 3, 2, 1] 1756331739904\n",
      "[5, 4, 3, 2, 1] 1756331739968\n"
     ]
    }
   ],
   "source": [
    "import copy\n",
    "\n",
    "def cloneList():\n",
    "    in_list = eval(input('Enter a list'))\n",
    "    print(in_list, id(in_list))\n",
    "    cloned_list = in_list.copy()\n",
    "    print(cloned_list, id(cloned_list))\n",
    "\n",
    "cloneList()\n"
   ]
  },
  {
   "cell_type": "markdown",
   "id": "a0b98cdb",
   "metadata": {},
   "source": [
    "11.Write a Python Program to count occurences of an element in a list ?\n"
   ]
  },
  {
   "cell_type": "code",
   "execution_count": 14,
   "id": "4b571e35",
   "metadata": {},
   "outputs": [
    {
     "name": "stdout",
     "output_type": "stream",
     "text": [
      "Enter the elements of the list: 5,4,3,2,1\n",
      "Enter the element to find: 3\n",
      "There are 1 occurences of 3 in (5, 4, 3, 2, 1)\n"
     ]
    }
   ],
   "source": [
    "def checkOccurence():\n",
    "    in_list = eval(input('Enter the elements of the list: '))\n",
    "    in_num = eval(input('Enter the element to find: '))\n",
    "    count = 0\n",
    "    if in_num in in_list:\n",
    "        for ele in in_list:\n",
    "            if ele == in_num:\n",
    "                count = count+1\n",
    "    print(f'There are {count} occurences of {in_num} in {in_list}')\n",
    "    \n",
    "checkOccurence()"
   ]
  },
  {
   "cell_type": "code",
   "execution_count": null,
   "id": "7bbe0200",
   "metadata": {},
   "outputs": [],
   "source": []
  }
 ],
 "metadata": {
  "kernelspec": {
   "display_name": "Python 3 (ipykernel)",
   "language": "python",
   "name": "python3"
  },
  "language_info": {
   "codemirror_mode": {
    "name": "ipython",
    "version": 3
   },
   "file_extension": ".py",
   "mimetype": "text/x-python",
   "name": "python",
   "nbconvert_exporter": "python",
   "pygments_lexer": "ipython3",
   "version": "3.9.7"
  }
 },
 "nbformat": 4,
 "nbformat_minor": 5
}
