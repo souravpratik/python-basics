{
 "cells": [
  {
   "cell_type": "markdown",
   "id": "f0346887",
   "metadata": {},
   "source": [
    "# python basics 21:"
   ]
  },
  {
   "cell_type": "markdown",
   "id": "be493537",
   "metadata": {},
   "source": [
    "1. Add the current date to the text file today.txt as a string.\n"
   ]
  },
  {
   "cell_type": "code",
   "execution_count": 1,
   "id": "f144af0f",
   "metadata": {},
   "outputs": [
    {
     "name": "stdout",
     "output_type": "stream",
     "text": [
      "13-03-2023\n"
     ]
    }
   ],
   "source": [
    "import datetime\n",
    "# Code to Add current date to the today.txt file\n",
    "file = open('today.txt','w')\n",
    "file.write(datetime.datetime.now().strftime(\"%d-%m-%Y\"))\n",
    "file.close()\n",
    "# Code to Read current date from today.txt file\n",
    "file = open('today.txt','r')\n",
    "print(file.read())\n",
    "file.close()"
   ]
  },
  {
   "cell_type": "markdown",
   "id": "40d3a4d7",
   "metadata": {},
   "source": [
    "2. Read the text file today.txt into the string today_string"
   ]
  },
  {
   "cell_type": "code",
   "execution_count": 2,
   "id": "4cc2c2c2",
   "metadata": {},
   "outputs": [
    {
     "name": "stdout",
     "output_type": "stream",
     "text": [
      "13-03-2023\n"
     ]
    }
   ],
   "source": [
    "file = open('today.txt','r')\n",
    "today_string = file.read()\n",
    "print(today_string)"
   ]
  },
  {
   "cell_type": "markdown",
   "id": "0f05ab66",
   "metadata": {},
   "source": [
    "3. Parse the date from today_string.\n"
   ]
  },
  {
   "cell_type": "code",
   "execution_count": 3,
   "id": "657b7711",
   "metadata": {},
   "outputs": [
    {
     "name": "stdout",
     "output_type": "stream",
     "text": [
      "2023-03-13 00:00:00\n"
     ]
    }
   ],
   "source": [
    "from datetime import datetime\n",
    "parsed_data = datetime.strptime(today_string, '%d-%m-%Y')\n",
    "print(parsed_data)"
   ]
  },
  {
   "cell_type": "markdown",
   "id": "d0e3d8c2",
   "metadata": {},
   "source": [
    "4. List the files in your current directory\n"
   ]
  },
  {
   "cell_type": "code",
   "execution_count": 4,
   "id": "1ec0594a",
   "metadata": {},
   "outputs": [
    {
     "name": "stdout",
     "output_type": "stream",
     "text": [
      "application_log.txt\n",
      "assignment 3 pyth basics.ipynb\n",
      "books.csv\n",
      "books.db\n",
      "class challenge1.ipynb\n",
      "class questionairre 3.ipynb\n",
      "class questionnaire1.ipynb\n",
      "prgramming assig 3.ipynb\n",
      "program assign 8.ipynb\n",
      "programm assign2.ipynb\n",
      "programming assign 1.ipynb\n",
      "pyth basics assignment 1.ipynb\n",
      "pyth prog assignment 7.ipynb\n",
      "pyth programming 5.ipynb\n",
      "pyth programming assign 6.ipynb\n",
      "Python Basics 10.ipynb\n",
      "Python Basics 11.ipynb\n",
      "Python Basics 12.ipynb\n",
      "Python Basics 13.ipynb\n",
      "Python Basics 14.ipynb\n",
      "Python Basics 15.ipynb\n",
      "python basics 16.ipynb\n",
      "python basics 17.ipynb\n",
      "python basics 18.ipynb\n",
      "python basics 19.ipynb\n",
      "python basics 20.ipynb\n",
      "python basics 21.ipynb\n",
      "python basics 4.ipynb\n",
      "python basics 5.ipynb\n",
      "python basics 6.ipynb\n",
      "python basics 7.ipynb\n",
      "python basics 8.ipynb\n",
      "Python Basics 9.ipynb\n",
      "python basics assignment 2.ipynb\n",
      "python basics assignment 3 .ipynb\n",
      "python prog assign 4.ipynb\n",
      "test.txt\n",
      "today.txt\n",
      "university_records.csv\n",
      "zoo.ipynb\n",
      "zoo.py\n",
      "assignment 3 pyth basics-checkpoint.ipynb\n",
      "class challenge1-checkpoint.ipynb\n",
      "class questionairre 3-checkpoint.ipynb\n",
      "class questionnaire1-checkpoint.ipynb\n",
      "prgramming assig 3-checkpoint.ipynb\n",
      "program assign 8-checkpoint.ipynb\n",
      "programm assign2-checkpoint.ipynb\n",
      "programming assign 1-checkpoint.ipynb\n",
      "pyth basics assignment 1-checkpoint.ipynb\n",
      "pyth prog assignment 7-checkpoint.ipynb\n",
      "pyth programming 5-checkpoint.ipynb\n",
      "pyth programming assign 6-checkpoint.ipynb\n",
      "Python Basics 10-checkpoint.ipynb\n",
      "Python Basics 11-checkpoint.ipynb\n",
      "Python Basics 12-checkpoint.ipynb\n",
      "Python Basics 13-checkpoint.ipynb\n",
      "Python Basics 14-checkpoint.ipynb\n",
      "Python Basics 15-checkpoint.ipynb\n",
      "python basics 16-checkpoint.ipynb\n",
      "python basics 17-checkpoint.ipynb\n",
      "python basics 18-checkpoint.ipynb\n",
      "python basics 19-checkpoint.ipynb\n",
      "python basics 20-checkpoint.ipynb\n",
      "python basics 21-checkpoint.ipynb\n",
      "python basics 4-checkpoint.ipynb\n",
      "python basics 5-checkpoint.ipynb\n",
      "python basics 6-checkpoint.ipynb\n",
      "python basics 7-checkpoint.ipynb\n",
      "python basics 8-checkpoint.ipynb\n",
      "Python Basics 9-checkpoint.ipynb\n",
      "python basics assignment 2-checkpoint.ipynb\n",
      "python basics assignment 3 -checkpoint.ipynb\n",
      "python prog assign 4-checkpoint.ipynb\n",
      "zoo-checkpoint.ipynb\n",
      "zoo.cpython-39.pyc\n"
     ]
    }
   ],
   "source": [
    "import os\n",
    "for folders, subfolders, files in os.walk(os.getcwd()):\n",
    "    for file in files:\n",
    "        print(file)"
   ]
  },
  {
   "cell_type": "markdown",
   "id": "2a3b23d7",
   "metadata": {},
   "source": [
    "5. Create a list of all of the files in your parent directory (minimum five files should be available).\n"
   ]
  },
  {
   "cell_type": "code",
   "execution_count": 5,
   "id": "5273a518",
   "metadata": {},
   "outputs": [
    {
     "data": {
      "text/plain": [
       "['.ipynb_checkpoints',\n",
       " 'application_log.txt',\n",
       " 'assignment 3 pyth basics.ipynb',\n",
       " 'books.csv',\n",
       " 'books.db',\n",
       " 'class challenge1.ipynb',\n",
       " 'class questionairre 3.ipynb',\n",
       " 'class questionnaire1.ipynb',\n",
       " 'prgramming assig 3.ipynb',\n",
       " 'program assign 8.ipynb',\n",
       " 'programm assign2.ipynb',\n",
       " 'programming assign 1.ipynb',\n",
       " 'pyth basics assignment 1.ipynb',\n",
       " 'pyth prog assignment 7.ipynb',\n",
       " 'pyth programming 5.ipynb',\n",
       " 'pyth programming assign 6.ipynb',\n",
       " 'Python Basics 10.ipynb',\n",
       " 'Python Basics 11.ipynb',\n",
       " 'Python Basics 12.ipynb',\n",
       " 'Python Basics 13.ipynb',\n",
       " 'Python Basics 14.ipynb',\n",
       " 'Python Basics 15.ipynb',\n",
       " 'python basics 16.ipynb',\n",
       " 'python basics 17.ipynb',\n",
       " 'python basics 18.ipynb',\n",
       " 'python basics 19.ipynb',\n",
       " 'python basics 20.ipynb',\n",
       " 'python basics 21.ipynb',\n",
       " 'python basics 4.ipynb',\n",
       " 'python basics 5.ipynb',\n",
       " 'python basics 6.ipynb',\n",
       " 'python basics 7.ipynb',\n",
       " 'python basics 8.ipynb',\n",
       " 'Python Basics 9.ipynb',\n",
       " 'python basics assignment 2.ipynb',\n",
       " 'python basics assignment 3 .ipynb',\n",
       " 'python prog assign 4.ipynb',\n",
       " 'test.txt',\n",
       " 'today.txt',\n",
       " 'university_records.csv',\n",
       " 'zoo.ipynb',\n",
       " 'zoo.py',\n",
       " '__pycache__']"
      ]
     },
     "execution_count": 5,
     "metadata": {},
     "output_type": "execute_result"
    }
   ],
   "source": [
    "import os \n",
    "os.listdir()"
   ]
  },
  {
   "cell_type": "markdown",
   "id": "dfbe149d",
   "metadata": {},
   "source": [
    "6. Use multiprocessing to create three separate processes. Make each one wait a random number of seconds between one and five, print the current time, and then exit.\n"
   ]
  },
  {
   "cell_type": "code",
   "execution_count": 6,
   "id": "10300845",
   "metadata": {},
   "outputs": [],
   "source": [
    "import multiprocessing\n",
    "import time \n",
    "import random\n",
    "import datetime\n",
    "\n",
    "def procOne():\n",
    "    print(f'Proc_one_Starttime -> {datetime.datetime.now()}')\n",
    "    time.sleep(random.randint(1,5))\n",
    "    print(f'Proc_one_Endtime -> {datetime.datetime.now()}')\n",
    "    \n",
    "def procTwo():\n",
    "    print(f'Proc_two_Starttime -> {datetime.datetime.now()}')\n",
    "    time.sleep(random.randint(1,5))\n",
    "    print(f'Proc_two_Endtime -> {datetime.datetime.now()}')\n",
    "\n",
    "def procThree():\n",
    "    print(f'Proc_two_Starttime -> {datetime.datetime.now()}')\n",
    "    time.sleep(random.randint(1,5))\n",
    "    print(f'Proc_two_Endtime -> {datetime.datetime.now()}')\n",
    "    \n",
    "if __name__ == \"__main__\":    \n",
    "    p1 = multiprocessing.Process(target=procOne)\n",
    "    p2 = multiprocessing.Process(target=procTwo)\n",
    "    p3 = multiprocessing.Process(target=procThree)\n",
    "\n",
    "    p1.start()\n",
    "    p2.start()\n",
    "    p3.start()\n",
    "\n",
    "    p1.join()\n",
    "    p2.join()\n",
    "    p3.join()"
   ]
  },
  {
   "cell_type": "markdown",
   "id": "b2788a8f",
   "metadata": {},
   "source": [
    "7. Create a date object of your day of birth.\n"
   ]
  },
  {
   "cell_type": "code",
   "execution_count": 8,
   "id": "47edf942",
   "metadata": {},
   "outputs": [
    {
     "name": "stdout",
     "output_type": "stream",
     "text": [
      "1997-04-22 00:00:00 <class 'datetime.datetime'>\n"
     ]
    }
   ],
   "source": [
    "from datetime import datetime\n",
    "my_dob = datetime.strptime('22/04/1997','%d/%m/%Y')\n",
    "print(my_dob, type(my_dob))"
   ]
  },
  {
   "cell_type": "markdown",
   "id": "108a3a78",
   "metadata": {},
   "source": [
    "8. What day of the week was your day of birth?\n"
   ]
  },
  {
   "cell_type": "code",
   "execution_count": 9,
   "id": "13162b1d",
   "metadata": {},
   "outputs": [
    {
     "data": {
      "text/plain": [
       "'Tuesday'"
      ]
     },
     "execution_count": 9,
     "metadata": {},
     "output_type": "execute_result"
    }
   ],
   "source": [
    "from datetime import datetime\n",
    "my_dob = datetime(1997,4,22)\n",
    "my_dob.strftime(\"%A\")"
   ]
  },
  {
   "cell_type": "markdown",
   "id": "84eb4bff",
   "metadata": {},
   "source": [
    "9. When will you be (or when were you) 10,000 days old?\n"
   ]
  },
  {
   "cell_type": "code",
   "execution_count": 10,
   "id": "89be46b5",
   "metadata": {},
   "outputs": [
    {
     "data": {
      "text/plain": [
       "datetime.datetime(1969, 12, 5, 0, 0)"
      ]
     },
     "execution_count": 10,
     "metadata": {},
     "output_type": "execute_result"
    }
   ],
   "source": [
    "from datetime import datetime, timedelta\n",
    "my_dob = datetime.strptime(\"22/04/1997\",'%d/%m/%Y')\n",
    "future_date = my_dob-timedelta(10000)\n",
    "future_date"
   ]
  },
  {
   "cell_type": "code",
   "execution_count": null,
   "id": "b2eddf47",
   "metadata": {},
   "outputs": [],
   "source": []
  }
 ],
 "metadata": {
  "kernelspec": {
   "display_name": "Python 3 (ipykernel)",
   "language": "python",
   "name": "python3"
  },
  "language_info": {
   "codemirror_mode": {
    "name": "ipython",
    "version": 3
   },
   "file_extension": ".py",
   "mimetype": "text/x-python",
   "name": "python",
   "nbconvert_exporter": "python",
   "pygments_lexer": "ipython3",
   "version": "3.9.7"
  }
 },
 "nbformat": 4,
 "nbformat_minor": 5
}
